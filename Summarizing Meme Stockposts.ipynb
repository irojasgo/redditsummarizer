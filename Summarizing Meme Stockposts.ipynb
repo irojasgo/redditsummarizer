{
 "cells": [
  {
   "cell_type": "markdown",
   "metadata": {},
   "source": [
    "# Project 4: Summarizing Reddit Posts | Wallstreetbets\n",
    "- Scrapped Reddit post data out of the Wallstreetbets subreddit\n",
    "- Built a dataset out of the extracted information\n",
    "- Used Hugginface's transformers to summarize post content"
   ]
  },
  {
   "cell_type": "code",
   "execution_count": 35,
   "metadata": {},
   "outputs": [],
   "source": [
    "#Reading the dataset created with the helper script\n",
    "import pandas as pd\n",
    "df = pd.read_csv('WallStreetBets.csv')\n",
    "df = df.head(30)"
   ]
  },
  {
   "cell_type": "code",
   "execution_count": 36,
   "metadata": {},
   "outputs": [],
   "source": [
    "#Calling huggingface's summarization transformer\n",
    "import transformers\n",
    "from transformers import pipeline\n",
    "summarizer = pipeline('summarization', model='facebook/bart-large-cnn')"
   ]
  },
  {
   "cell_type": "code",
   "execution_count": 37,
   "metadata": {},
   "outputs": [],
   "source": [
    "#Defining a function to summarize text\n",
    "def summarize_post(post):\n",
    "    result = summarizer(post, truncation=True)\n",
    "    return result[0]['summary_text']"
   ]
  },
  {
   "cell_type": "code",
   "execution_count": 38,
   "metadata": {},
   "outputs": [
    {
     "data": {
      "text/plain": [
       "'IBM, Fortran, and [Harlan Mills] influenced the development of the NASDAQ. SEC knew then what we know now. Banks are assholes. And they figured, well if we get rid of the human element (to some degree) this might make things more legit for more ppl than less of them.'"
      ]
     },
     "execution_count": 38,
     "metadata": {},
     "output_type": "execute_result"
    }
   ],
   "source": [
    "#Testing the function\n",
    "summarize_post(df.iloc[0]['posts'])"
   ]
  },
  {
   "cell_type": "code",
   "execution_count": 39,
   "metadata": {},
   "outputs": [
    {
     "name": "stderr",
     "output_type": "stream",
     "text": [
      "Summarizing Posts:   7%|▋         | 2/30 [00:20<04:39,  9.99s/it]Your max_length is set to 142, but you input_length is only 71. You might consider decreasing max_length manually, e.g. summarizer('...', max_length=35)\n",
      "Summarizing Posts:  13%|█▎        | 4/30 [00:40<04:36, 10.63s/it]Your max_length is set to 142, but you input_length is only 134. You might consider decreasing max_length manually, e.g. summarizer('...', max_length=67)\n",
      "Summarizing Posts:  30%|███       | 9/30 [01:20<03:12,  9.18s/it]Your max_length is set to 142, but you input_length is only 56. You might consider decreasing max_length manually, e.g. summarizer('...', max_length=28)\n",
      "Summarizing Posts:  33%|███▎      | 10/30 [01:24<02:37,  7.85s/it]Your max_length is set to 142, but you input_length is only 88. You might consider decreasing max_length manually, e.g. summarizer('...', max_length=44)\n",
      "Summarizing Posts:  43%|████▎     | 13/30 [01:42<01:51,  6.57s/it]Your max_length is set to 142, but you input_length is only 50. You might consider decreasing max_length manually, e.g. summarizer('...', max_length=25)\n",
      "Summarizing Posts:  47%|████▋     | 14/30 [01:47<01:36,  6.01s/it]Your max_length is set to 142, but you input_length is only 47. You might consider decreasing max_length manually, e.g. summarizer('...', max_length=23)\n",
      "Summarizing Posts:  57%|█████▋    | 17/30 [02:10<01:39,  7.64s/it]Your max_length is set to 142, but you input_length is only 99. You might consider decreasing max_length manually, e.g. summarizer('...', max_length=49)\n",
      "Summarizing Posts:  73%|███████▎  | 22/30 [02:45<00:55,  6.97s/it]Your max_length is set to 142, but you input_length is only 113. You might consider decreasing max_length manually, e.g. summarizer('...', max_length=56)\n",
      "Summarizing Posts:  80%|████████  | 24/30 [02:58<00:40,  6.82s/it]Your max_length is set to 142, but you input_length is only 66. You might consider decreasing max_length manually, e.g. summarizer('...', max_length=33)\n",
      "Summarizing Posts:  90%|█████████ | 27/30 [03:14<00:17,  5.90s/it]Your max_length is set to 142, but you input_length is only 72. You might consider decreasing max_length manually, e.g. summarizer('...', max_length=36)\n",
      "Summarizing Posts:  93%|█████████▎| 28/30 [03:20<00:11,  5.88s/it]Your max_length is set to 142, but you input_length is only 82. You might consider decreasing max_length manually, e.g. summarizer('...', max_length=41)\n",
      "Summarizing Posts:  97%|█████████▋| 29/30 [03:25<00:05,  5.58s/it]Your max_length is set to 142, but you input_length is only 37. You might consider decreasing max_length manually, e.g. summarizer('...', max_length=18)\n",
      "Summarizing Posts: 100%|██████████| 30/30 [03:29<00:00,  6.99s/it]\n"
     ]
    }
   ],
   "source": [
    "#TQDM makes progress bars look pretty\n",
    "from tqdm import tqdm\n",
    "summarized_posts = []\n",
    "\n",
    "#Summarize across the entire posts columns\n",
    "for post in tqdm(df['posts'], desc='Summarizing Posts', maxinterval=len(df['posts'])):\n",
    "    summarized_posts.append(summarize_post(post))"
   ]
  },
  {
   "cell_type": "code",
   "execution_count": 40,
   "metadata": {},
   "outputs": [
    {
     "data": {
      "text/html": [
       "<div>\n",
       "<style scoped>\n",
       "    .dataframe tbody tr th:only-of-type {\n",
       "        vertical-align: middle;\n",
       "    }\n",
       "\n",
       "    .dataframe tbody tr th {\n",
       "        vertical-align: top;\n",
       "    }\n",
       "\n",
       "    .dataframe thead th {\n",
       "        text-align: right;\n",
       "    }\n",
       "</style>\n",
       "<table border=\"1\" class=\"dataframe\">\n",
       "  <thead>\n",
       "    <tr style=\"text-align: right;\">\n",
       "      <th></th>\n",
       "      <th>titles</th>\n",
       "      <th>posts</th>\n",
       "      <th>subreddit</th>\n",
       "      <th>creation_date</th>\n",
       "      <th>authors</th>\n",
       "      <th>upvotes</th>\n",
       "      <th>url</th>\n",
       "      <th>Summarized_Post</th>\n",
       "    </tr>\n",
       "  </thead>\n",
       "  <tbody>\n",
       "    <tr>\n",
       "      <th>0</th>\n",
       "      <td>Remarks of Richard B. Smith, Commissioner Unit...</td>\n",
       "      <td>\"What I want to discuss with you today is a pi...</td>\n",
       "      <td>wallstreetbets</td>\n",
       "      <td>1.667245e+09</td>\n",
       "      <td>t2_2a5jbp59</td>\n",
       "      <td>1</td>\n",
       "      <td>https://www.reddit.com/r/wallstreetbets/commen...</td>\n",
       "      <td>IBM, Fortran, and [Harlan Mills] influenced th...</td>\n",
       "    </tr>\n",
       "    <tr>\n",
       "      <th>1</th>\n",
       "      <td>Brazil</td>\n",
       "      <td>Brazil just finished their run-off election wi...</td>\n",
       "      <td>wallstreetbets</td>\n",
       "      <td>1.667244e+09</td>\n",
       "      <td>t2_6n2z4j2y</td>\n",
       "      <td>2</td>\n",
       "      <td>https://www.reddit.com/r/wallstreetbets/commen...</td>\n",
       "      <td>Brazil just finished their run-off election wi...</td>\n",
       "    </tr>\n",
       "    <tr>\n",
       "      <th>2</th>\n",
       "      <td>Gamelancer Media Corp. $GMNG $GAMGF has a new ...</td>\n",
       "      <td>Gamelancer Media Corp. has uploaded a new corp...</td>\n",
       "      <td>wallstreetbets</td>\n",
       "      <td>1.667243e+09</td>\n",
       "      <td>t2_a1jf7gbk</td>\n",
       "      <td>3</td>\n",
       "      <td>https://www.reddit.com/r/wallstreetbets/commen...</td>\n",
       "      <td>Gamelancer Media Corp. has uploaded a new corp...</td>\n",
       "    </tr>\n",
       "    <tr>\n",
       "      <th>3</th>\n",
       "      <td>Trading SPY and FOMC Meeting</td>\n",
       "      <td>Hey guys, this is another big week for the fut...</td>\n",
       "      <td>wallstreetbets</td>\n",
       "      <td>1.667243e+09</td>\n",
       "      <td>t2_5ylhcs6t</td>\n",
       "      <td>8</td>\n",
       "      <td>https://www.reddit.com/r/wallstreetbets/commen...</td>\n",
       "      <td>This is another big week for the future of the...</td>\n",
       "    </tr>\n",
       "    <tr>\n",
       "      <th>4</th>\n",
       "      <td>$LLY earnings call</td>\n",
       "      <td>$LLY earnings, boomer play.\\n\\nMy 405c FDs for...</td>\n",
       "      <td>wallstreetbets</td>\n",
       "      <td>1.667243e+09</td>\n",
       "      <td>t2_gq4rwz6a</td>\n",
       "      <td>0</td>\n",
       "      <td>https://www.reddit.com/r/wallstreetbets/commen...</td>\n",
       "      <td>The reason for my great play is based off of E...</td>\n",
       "    </tr>\n",
       "  </tbody>\n",
       "</table>\n",
       "</div>"
      ],
      "text/plain": [
       "                                              titles  \\\n",
       "0  Remarks of Richard B. Smith, Commissioner Unit...   \n",
       "1                                             Brazil   \n",
       "2  Gamelancer Media Corp. $GMNG $GAMGF has a new ...   \n",
       "3                       Trading SPY and FOMC Meeting   \n",
       "4                                 $LLY earnings call   \n",
       "\n",
       "                                               posts       subreddit  \\\n",
       "0  \"What I want to discuss with you today is a pi...  wallstreetbets   \n",
       "1  Brazil just finished their run-off election wi...  wallstreetbets   \n",
       "2  Gamelancer Media Corp. has uploaded a new corp...  wallstreetbets   \n",
       "3  Hey guys, this is another big week for the fut...  wallstreetbets   \n",
       "4  $LLY earnings, boomer play.\\n\\nMy 405c FDs for...  wallstreetbets   \n",
       "\n",
       "   creation_date      authors  upvotes  \\\n",
       "0   1.667245e+09  t2_2a5jbp59        1   \n",
       "1   1.667244e+09  t2_6n2z4j2y        2   \n",
       "2   1.667243e+09  t2_a1jf7gbk        3   \n",
       "3   1.667243e+09  t2_5ylhcs6t        8   \n",
       "4   1.667243e+09  t2_gq4rwz6a        0   \n",
       "\n",
       "                                                 url  \\\n",
       "0  https://www.reddit.com/r/wallstreetbets/commen...   \n",
       "1  https://www.reddit.com/r/wallstreetbets/commen...   \n",
       "2  https://www.reddit.com/r/wallstreetbets/commen...   \n",
       "3  https://www.reddit.com/r/wallstreetbets/commen...   \n",
       "4  https://www.reddit.com/r/wallstreetbets/commen...   \n",
       "\n",
       "                                     Summarized_Post  \n",
       "0  IBM, Fortran, and [Harlan Mills] influenced th...  \n",
       "1  Brazil just finished their run-off election wi...  \n",
       "2  Gamelancer Media Corp. has uploaded a new corp...  \n",
       "3  This is another big week for the future of the...  \n",
       "4  The reason for my great play is based off of E...  "
      ]
     },
     "execution_count": 40,
     "metadata": {},
     "output_type": "execute_result"
    }
   ],
   "source": [
    "#Storing results into the orginal data frame\n",
    "df['Summarized_Post'] = summarized_posts\n",
    "df.head()"
   ]
  },
  {
   "cell_type": "code",
   "execution_count": 41,
   "metadata": {},
   "outputs": [
    {
     "data": {
      "text/plain": [
       "\"Brazil just finished their run-off election with Lula the former president beating the incumbent in the closest election in Brazil's democratic victory and the incumbent Jair Bolsonaro has been parroting Trump leading up to the election and has yet to concede. He was a former military leader with the support of the military and in the past has spread the sentiment that he isn't leaving. I wanted exposure to the instability of the country so I bought puts in an ETF there for after the transition of power in the new year. The Brazilian market is generally up today on Lula's victory but I think the instability is not priced in. I chose the ETF EWZ as it has a higher finance exposure which should be the first sector to hurt. I see at least some instability and at most a Coup d'état. Happy Profiting on suffering welcome to capitalism.\\n\\n&amp;#x200B;\\n\\nPositions  Jan 20 23   Put. $17 x20, $21x29, $25x11, $29x2\""
      ]
     },
     "execution_count": 41,
     "metadata": {},
     "output_type": "execute_result"
    }
   ],
   "source": [
    "#Reading row 1 full lenght text\n",
    "df.iloc[1]['posts']"
   ]
  },
  {
   "cell_type": "code",
   "execution_count": 42,
   "metadata": {},
   "outputs": [
    {
     "data": {
      "text/plain": [
       "\"Brazil just finished their run-off election with Lula the former president beating the incumbent in the closest election in Brazil's democratic victory. I wanted exposure to the instability of the country so I bought puts in an ETF there for after the transition of power in the new year. The Brazilian market is generally up today on Lula's victory but I think the instability is not priced in. I see at least some instability and at most a Coup d'état.\""
      ]
     },
     "execution_count": 42,
     "metadata": {},
     "output_type": "execute_result"
    }
   ],
   "source": [
    "#Comparing that against its summarized version\n",
    "df.iloc[1]['Summarized_Post']"
   ]
  },
  {
   "cell_type": "code",
   "execution_count": 43,
   "metadata": {},
   "outputs": [
    {
     "data": {
      "text/plain": [
       "\"Walter Bloomberg is quitting!\\n\\nJust a few minutes ago he published this information on his Twitter account, where comments are restricted and great speculation has been created about this news.\\n\\n [**\\\\*Walter Bloomberg**](https://twitter.com/DeItaone)[@DeItaone](https://twitter.com/DeItaone)·[1h](https://twitter.com/DeItaone/status/1587132171512340483)Hi, I have done my best to help you over the past 8 years. Unfortunately, today I can't afford to be on social media &amp; to fulfill my personal responsibilities  If you want me back every day, it can't be without your help.  \\n\\nThanks for your support \\n\\nWalter \\n\\n&amp;#x200B;\\n\\nDoes anyone know Walter Bloomberg's real name to look him up on Linkedin?\\n\\nI would offer to help him manage his account! What do you think are the real causes, really his information was very good. \\n\\nThanks Walter.\\n\\nInfo via Twitter.\\n\\n&amp;#x200B;\\n\\nhttps://preview.redd.it/20i185p9v6x91.png?width=900&amp;format=png&amp;auto=webp&amp;s=6513b171a2f95b9f9989a81dfc6a8aba00165f71\""
      ]
     },
     "execution_count": 43,
     "metadata": {},
     "output_type": "execute_result"
    }
   ],
   "source": [
    "#Reading row 5 full lenght text\n",
    "df.iloc[5]['posts']"
   ]
  },
  {
   "cell_type": "code",
   "execution_count": 44,
   "metadata": {},
   "outputs": [
    {
     "data": {
      "text/plain": [
       "'Walter Bloomberg is quitting Twitter. He posted the news on his Twitter account, where comments are restricted and great speculation has been created about this news. He wrote: \"I have done my best to help you over the past 8 years. Unfortunately, today I can\\'t afford to be on social media\"'"
      ]
     },
     "execution_count": 44,
     "metadata": {},
     "output_type": "execute_result"
    }
   ],
   "source": [
    "#Comparing that against its summarized version\n",
    "df.iloc[5]['Summarized_Post']"
   ]
  },
  {
   "cell_type": "code",
   "execution_count": null,
   "metadata": {},
   "outputs": [],
   "source": []
  }
 ],
 "metadata": {
  "kernelspec": {
   "display_name": "Python 3.9.1 64-bit",
   "language": "python",
   "name": "python3"
  },
  "language_info": {
   "codemirror_mode": {
    "name": "ipython",
    "version": 3
   },
   "file_extension": ".py",
   "mimetype": "text/x-python",
   "name": "python",
   "nbconvert_exporter": "python",
   "pygments_lexer": "ipython3",
   "version": "3.9.1"
  },
  "orig_nbformat": 4,
  "vscode": {
   "interpreter": {
    "hash": "fefe1bf480c11bf003fba226430f9cc6591c2a11b0f80c22005b6e46c2183a03"
   }
  }
 },
 "nbformat": 4,
 "nbformat_minor": 2
}
