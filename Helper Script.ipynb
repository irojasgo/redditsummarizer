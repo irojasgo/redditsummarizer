{
 "cells": [
  {
   "cell_type": "markdown",
   "metadata": {},
   "source": [
    "# Reddit Scrapper\n",
    "- This notebook contains all the steps required to connect with Reddit's API and get data from any given subreddit\n",
    "- Credentials and tokens have been erased for security reasons"
   ]
  },
  {
   "cell_type": "code",
   "execution_count": 1,
   "metadata": {},
   "outputs": [
    {
     "data": {
      "text/plain": [
       "<Response [200]>"
      ]
     },
     "execution_count": 1,
     "metadata": {},
     "output_type": "execute_result"
    }
   ],
   "source": [
    "#This piece of code will allow us to authenticate against Reddit's API\n",
    "personal_use = 'PERSONAL_USE_TOKEN'\n",
    "secret ='SECRET_TOKEN'\n",
    "import requests\n",
    "auth = requests.auth.HTTPBasicAuth(personal_use,secret)\n",
    "data = {\n",
    "    'grant_type':'client_credentials',\n",
    "    'username':'YOUR_EMAIL_GOES HERE',\n",
    "    'password':'YOUR_PASSWORD_GOES_HERE'\n",
    "}\n",
    "headers = {\n",
    "    'User-Agent':'WHATEVR'\n",
    "}\n",
    "res = requests.post('https://www.reddit.com/api/v1/access_token', auth=auth, data=data, headers=headers)\n",
    "token = res.json()['access_token']\n",
    "headers['Authorization'] = f'bearer {token}'\n",
    "requests.get('https://oauth.reddit.com/api/v1/me', headers=headers)"
   ]
  },
  {
   "cell_type": "code",
   "execution_count": 15,
   "metadata": {},
   "outputs": [
    {
     "data": {
      "text/html": [
       "<div>\n",
       "<style scoped>\n",
       "    .dataframe tbody tr th:only-of-type {\n",
       "        vertical-align: middle;\n",
       "    }\n",
       "\n",
       "    .dataframe tbody tr th {\n",
       "        vertical-align: top;\n",
       "    }\n",
       "\n",
       "    .dataframe thead th {\n",
       "        text-align: right;\n",
       "    }\n",
       "</style>\n",
       "<table border=\"1\" class=\"dataframe\">\n",
       "  <thead>\n",
       "    <tr style=\"text-align: right;\">\n",
       "      <th></th>\n",
       "      <th>titles</th>\n",
       "      <th>posts</th>\n",
       "      <th>subreddit</th>\n",
       "      <th>creation_date</th>\n",
       "      <th>authors</th>\n",
       "      <th>upvotes</th>\n",
       "      <th>url</th>\n",
       "    </tr>\n",
       "  </thead>\n",
       "  <tbody>\n",
       "    <tr>\n",
       "      <th>0</th>\n",
       "      <td>Big Meta shareholders rage at 'tone-deaf' Mark...</td>\n",
       "      <td></td>\n",
       "      <td>wallstreetbets</td>\n",
       "      <td>1.667246e+09</td>\n",
       "      <td>t2_b0m3haio</td>\n",
       "      <td>1</td>\n",
       "      <td>https://nypost.com/2022/10/31/big-meta-shareho...</td>\n",
       "    </tr>\n",
       "    <tr>\n",
       "      <th>1</th>\n",
       "      <td>GME in 15k shares. Last call for this torpedo!</td>\n",
       "      <td></td>\n",
       "      <td>wallstreetbets</td>\n",
       "      <td>1.667246e+09</td>\n",
       "      <td>t2_a0wqpu0h</td>\n",
       "      <td>15</td>\n",
       "      <td>https://i.redd.it/w4ul4jmn37x91.jpg</td>\n",
       "    </tr>\n",
       "    <tr>\n",
       "      <th>2</th>\n",
       "      <td>Remarks of Richard B. Smith, Commissioner Unit...</td>\n",
       "      <td>\"What I want to discuss with you today is a pi...</td>\n",
       "      <td>wallstreetbets</td>\n",
       "      <td>1.667245e+09</td>\n",
       "      <td>t2_2a5jbp59</td>\n",
       "      <td>1</td>\n",
       "      <td>https://www.reddit.com/r/wallstreetbets/commen...</td>\n",
       "    </tr>\n",
       "    <tr>\n",
       "      <th>3</th>\n",
       "      <td>Where's my God Damn $55.20 Elon?</td>\n",
       "      <td></td>\n",
       "      <td>wallstreetbets</td>\n",
       "      <td>1.667245e+09</td>\n",
       "      <td>t2_e7q5y</td>\n",
       "      <td>7</td>\n",
       "      <td>https://i.redd.it/iq1bdb1427x91.jpg</td>\n",
       "    </tr>\n",
       "    <tr>\n",
       "      <th>4</th>\n",
       "      <td>Down another 6% today!</td>\n",
       "      <td></td>\n",
       "      <td>wallstreetbets</td>\n",
       "      <td>1.667245e+09</td>\n",
       "      <td>t2_7d81jt8g</td>\n",
       "      <td>33</td>\n",
       "      <td>https://i.redd.it/x4gfb7aa07x91.png</td>\n",
       "    </tr>\n",
       "  </tbody>\n",
       "</table>\n",
       "</div>"
      ],
      "text/plain": [
       "                                              titles  \\\n",
       "0  Big Meta shareholders rage at 'tone-deaf' Mark...   \n",
       "1     GME in 15k shares. Last call for this torpedo!   \n",
       "2  Remarks of Richard B. Smith, Commissioner Unit...   \n",
       "3                   Where's my God Damn $55.20 Elon?   \n",
       "4                             Down another 6% today!   \n",
       "\n",
       "                                               posts       subreddit  \\\n",
       "0                                                     wallstreetbets   \n",
       "1                                                     wallstreetbets   \n",
       "2  \"What I want to discuss with you today is a pi...  wallstreetbets   \n",
       "3                                                     wallstreetbets   \n",
       "4                                                     wallstreetbets   \n",
       "\n",
       "   creation_date      authors  upvotes  \\\n",
       "0   1.667246e+09  t2_b0m3haio        1   \n",
       "1   1.667246e+09  t2_a0wqpu0h       15   \n",
       "2   1.667245e+09  t2_2a5jbp59        1   \n",
       "3   1.667245e+09     t2_e7q5y        7   \n",
       "4   1.667245e+09  t2_7d81jt8g       33   \n",
       "\n",
       "                                                 url  \n",
       "0  https://nypost.com/2022/10/31/big-meta-shareho...  \n",
       "1                https://i.redd.it/w4ul4jmn37x91.jpg  \n",
       "2  https://www.reddit.com/r/wallstreetbets/commen...  \n",
       "3                https://i.redd.it/iq1bdb1427x91.jpg  \n",
       "4                https://i.redd.it/x4gfb7aa07x91.png  "
      ]
     },
     "execution_count": 15,
     "metadata": {},
     "output_type": "execute_result"
    }
   ],
   "source": [
    "#This cell defines the dataframe structure, queries te API and transforms the results into a manageable dataframe\n",
    "import pandas as pd\n",
    "\n",
    "data_dict ={\n",
    "    'titles' : [],\n",
    "    'posts' : [],\n",
    "    'subreddit': [],\n",
    "    'creation_date':[],\n",
    "    'authors' : [],\n",
    "    'upvotes':[],\n",
    "    'url':[]\n",
    "    \n",
    "}\n",
    "\n",
    "api = 'https://oauth.reddit.com'\n",
    "params ={'limit':100}\n",
    "counter=0\n",
    "while True:\n",
    "    if counter==50:\n",
    "        break\n",
    "    res = requests.get(f\"{api}/r/wallstreetbets/new\", headers=headers, params=params)\n",
    "    res = res.json()\n",
    "    counter+=1\n",
    "    for posting in res['data']['children']:\n",
    "        data_dict['titles'].append(posting['data']['title'])\n",
    "        data_dict['posts'].append(posting['data']['selftext'])\n",
    "        data_dict['subreddit'].append(posting['data']['subreddit'])\n",
    "        data_dict['creation_date'].append(posting['data']['created_utc'])\n",
    "        data_dict['authors'].append(posting['data']['author_fullname'])\n",
    "        data_dict['upvotes'].append(posting['data']['ups'])\n",
    "        data_dict['url'].append(posting['data']['url'])\n",
    "\n",
    "df = pd.DataFrame(data_dict)\n",
    "df.head()\n"
   ]
  },
  {
   "cell_type": "code",
   "execution_count": 16,
   "metadata": {},
   "outputs": [
    {
     "data": {
      "text/plain": [
       "5000"
      ]
     },
     "execution_count": 16,
     "metadata": {},
     "output_type": "execute_result"
    }
   ],
   "source": [
    "len(df)"
   ]
  },
  {
   "cell_type": "code",
   "execution_count": 17,
   "metadata": {},
   "outputs": [
    {
     "data": {
      "text/html": [
       "<div>\n",
       "<style scoped>\n",
       "    .dataframe tbody tr th:only-of-type {\n",
       "        vertical-align: middle;\n",
       "    }\n",
       "\n",
       "    .dataframe tbody tr th {\n",
       "        vertical-align: top;\n",
       "    }\n",
       "\n",
       "    .dataframe thead th {\n",
       "        text-align: right;\n",
       "    }\n",
       "</style>\n",
       "<table border=\"1\" class=\"dataframe\">\n",
       "  <thead>\n",
       "    <tr style=\"text-align: right;\">\n",
       "      <th></th>\n",
       "      <th>titles</th>\n",
       "      <th>posts</th>\n",
       "      <th>subreddit</th>\n",
       "      <th>creation_date</th>\n",
       "      <th>authors</th>\n",
       "      <th>upvotes</th>\n",
       "      <th>url</th>\n",
       "    </tr>\n",
       "  </thead>\n",
       "  <tbody>\n",
       "    <tr>\n",
       "      <th>2</th>\n",
       "      <td>Remarks of Richard B. Smith, Commissioner Unit...</td>\n",
       "      <td>\"What I want to discuss with you today is a pi...</td>\n",
       "      <td>wallstreetbets</td>\n",
       "      <td>1.667245e+09</td>\n",
       "      <td>t2_2a5jbp59</td>\n",
       "      <td>1</td>\n",
       "      <td>https://www.reddit.com/r/wallstreetbets/commen...</td>\n",
       "    </tr>\n",
       "    <tr>\n",
       "      <th>5</th>\n",
       "      <td>Brazil</td>\n",
       "      <td>Brazil just finished their run-off election wi...</td>\n",
       "      <td>wallstreetbets</td>\n",
       "      <td>1.667244e+09</td>\n",
       "      <td>t2_6n2z4j2y</td>\n",
       "      <td>2</td>\n",
       "      <td>https://www.reddit.com/r/wallstreetbets/commen...</td>\n",
       "    </tr>\n",
       "    <tr>\n",
       "      <th>7</th>\n",
       "      <td>Gamelancer Media Corp. $GMNG $GAMGF has a new ...</td>\n",
       "      <td>Gamelancer Media Corp. has uploaded a new corp...</td>\n",
       "      <td>wallstreetbets</td>\n",
       "      <td>1.667243e+09</td>\n",
       "      <td>t2_a1jf7gbk</td>\n",
       "      <td>3</td>\n",
       "      <td>https://www.reddit.com/r/wallstreetbets/commen...</td>\n",
       "    </tr>\n",
       "    <tr>\n",
       "      <th>8</th>\n",
       "      <td>Trading SPY and FOMC Meeting</td>\n",
       "      <td>Hey guys, this is another big week for the fut...</td>\n",
       "      <td>wallstreetbets</td>\n",
       "      <td>1.667243e+09</td>\n",
       "      <td>t2_5ylhcs6t</td>\n",
       "      <td>8</td>\n",
       "      <td>https://www.reddit.com/r/wallstreetbets/commen...</td>\n",
       "    </tr>\n",
       "    <tr>\n",
       "      <th>9</th>\n",
       "      <td>$LLY earnings call</td>\n",
       "      <td>$LLY earnings, boomer play.\\n\\nMy 405c FDs for...</td>\n",
       "      <td>wallstreetbets</td>\n",
       "      <td>1.667243e+09</td>\n",
       "      <td>t2_gq4rwz6a</td>\n",
       "      <td>0</td>\n",
       "      <td>https://www.reddit.com/r/wallstreetbets/commen...</td>\n",
       "    </tr>\n",
       "  </tbody>\n",
       "</table>\n",
       "</div>"
      ],
      "text/plain": [
       "                                              titles  \\\n",
       "2  Remarks of Richard B. Smith, Commissioner Unit...   \n",
       "5                                             Brazil   \n",
       "7  Gamelancer Media Corp. $GMNG $GAMGF has a new ...   \n",
       "8                       Trading SPY and FOMC Meeting   \n",
       "9                                 $LLY earnings call   \n",
       "\n",
       "                                               posts       subreddit  \\\n",
       "2  \"What I want to discuss with you today is a pi...  wallstreetbets   \n",
       "5  Brazil just finished their run-off election wi...  wallstreetbets   \n",
       "7  Gamelancer Media Corp. has uploaded a new corp...  wallstreetbets   \n",
       "8  Hey guys, this is another big week for the fut...  wallstreetbets   \n",
       "9  $LLY earnings, boomer play.\\n\\nMy 405c FDs for...  wallstreetbets   \n",
       "\n",
       "   creation_date      authors  upvotes  \\\n",
       "2   1.667245e+09  t2_2a5jbp59        1   \n",
       "5   1.667244e+09  t2_6n2z4j2y        2   \n",
       "7   1.667243e+09  t2_a1jf7gbk        3   \n",
       "8   1.667243e+09  t2_5ylhcs6t        8   \n",
       "9   1.667243e+09  t2_gq4rwz6a        0   \n",
       "\n",
       "                                                 url  \n",
       "2  https://www.reddit.com/r/wallstreetbets/commen...  \n",
       "5  https://www.reddit.com/r/wallstreetbets/commen...  \n",
       "7  https://www.reddit.com/r/wallstreetbets/commen...  \n",
       "8  https://www.reddit.com/r/wallstreetbets/commen...  \n",
       "9  https://www.reddit.com/r/wallstreetbets/commen...  "
      ]
     },
     "execution_count": 17,
     "metadata": {},
     "output_type": "execute_result"
    }
   ],
   "source": [
    "#We delete empty posts as these are useless for the scope of the project\n",
    "df=df[df['posts']!=\"\"]\n",
    "df.head()"
   ]
  },
  {
   "cell_type": "code",
   "execution_count": 18,
   "metadata": {},
   "outputs": [
    {
     "data": {
      "text/plain": [
       "2000"
      ]
     },
     "execution_count": 18,
     "metadata": {},
     "output_type": "execute_result"
    }
   ],
   "source": [
    "len(df)"
   ]
  },
  {
   "cell_type": "code",
   "execution_count": 19,
   "metadata": {},
   "outputs": [
    {
     "data": {
      "text/plain": [
       "\"Brazil just finished their run-off election with Lula the former president beating the incumbent in the closest election in Brazil's democratic victory and the incumbent Jair Bolsonaro has been parroting Trump leading up to the election and has yet to concede. He was a former military leader with the support of the military and in the past has spread the sentiment that he isn't leaving. I wanted exposure to the instability of the country so I bought puts in an ETF there for after the transition of power in the new year. The Brazilian market is generally up today on Lula's victory but I think the instability is not priced in. I chose the ETF EWZ as it has a higher finance exposure which should be the first sector to hurt. I see at least some instability and at most a Coup d'état. Happy Profiting on suffering welcome to capitalism.\\n\\n&amp;#x200B;\\n\\nPositions  Jan 20 23   Put. $17 x20, $21x29, $25x11, $29x2\""
      ]
     },
     "execution_count": 19,
     "metadata": {},
     "output_type": "execute_result"
    }
   ],
   "source": [
    "#Just checking what some rows contain\n",
    "df.iloc[1]['posts']"
   ]
  },
  {
   "cell_type": "code",
   "execution_count": 20,
   "metadata": {},
   "outputs": [],
   "source": [
    "#Export the final dataframe to a csv for later use\n",
    "df.to_csv('WallStreetBets.csv',index=False)"
   ]
  },
  {
   "cell_type": "code",
   "execution_count": null,
   "metadata": {},
   "outputs": [],
   "source": []
  }
 ],
 "metadata": {
  "kernelspec": {
   "display_name": "Python 3.9.1 64-bit",
   "language": "python",
   "name": "python3"
  },
  "language_info": {
   "codemirror_mode": {
    "name": "ipython",
    "version": 3
   },
   "file_extension": ".py",
   "mimetype": "text/x-python",
   "name": "python",
   "nbconvert_exporter": "python",
   "pygments_lexer": "ipython3",
   "version": "3.9.1"
  },
  "orig_nbformat": 4,
  "vscode": {
   "interpreter": {
    "hash": "fefe1bf480c11bf003fba226430f9cc6591c2a11b0f80c22005b6e46c2183a03"
   }
  }
 },
 "nbformat": 4,
 "nbformat_minor": 2
}
